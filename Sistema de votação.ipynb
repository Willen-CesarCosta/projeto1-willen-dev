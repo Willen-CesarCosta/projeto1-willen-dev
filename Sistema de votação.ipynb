{
 "cells": [
  {
   "cell_type": "code",
   "execution_count": null,
   "id": "6990bed3",
   "metadata": {},
   "outputs": [],
   "source": [
    "from rich import print\n",
    "import os\n",
    "\n"
   ]
  },
  {
   "cell_type": "code",
   "execution_count": null,
   "id": "6ffcf7f2",
   "metadata": {},
   "outputs": [],
   "source": [
    "\n",
    "# contantes\n",
    "VOTOS_BOLSONARO = 0\n",
    "VOTOS_LULA = 0\n",
    "# RODAR ETERNAMENTE\n",
    "while True:\n",
    "    print('*'*20)\n",
    "    print(f'TOTAL BOLSONARO:{VOTOS_BOLSONARO}{os.linesep}TOTAL LULA:{VOTOS_LULA}')\n",
    "    print('*'*20)\n",
    "    # permite votar \n",
    "    try:\n",
    "        voto = int(input( f'Para quem gostaria de votar?{os.linesep}1 - Bolsonaro{os.linesep}2 - Lula{os.linesep}seu voto'))\n",
    "        if voto == 1:\n",
    "         VOTOS_BOLSONARO += 1\n",
    "        elif voto == 2:\n",
    "         VOTOS_LULA += 1\n",
    "        else:\n",
    "            pass\n",
    "    except:\n",
    "        print('Digite apenas 1 ou 2')\n",
    "    os.system('cls')\n",
    "\n",
    "\n",
    "    "
   ]
  },
  {
   "cell_type": "code",
   "execution_count": null,
   "id": "5cb179f6",
   "metadata": {},
   "outputs": [],
   "source": []
  }
 ],
 "metadata": {
  "kernelspec": {
   "display_name": "Python 3 (ipykernel)",
   "language": "python",
   "name": "python3"
  },
  "language_info": {
   "codemirror_mode": {
    "name": "ipython",
    "version": 3
   },
   "file_extension": ".py",
   "mimetype": "text/x-python",
   "name": "python",
   "nbconvert_exporter": "python",
   "pygments_lexer": "ipython3",
   "version": "3.9.7"
  }
 },
 "nbformat": 4,
 "nbformat_minor": 5
}
